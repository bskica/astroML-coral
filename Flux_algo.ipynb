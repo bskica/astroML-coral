{
 "cells": [
  {
   "cell_type": "code",
   "execution_count": 1,
   "metadata": {},
   "outputs": [],
   "source": [
    "import tensorflow as tf\n",
    "import matplotlib.pyplot as plt\n",
    "import numpy as np\n",
    "import pandas as pd\n",
    "from keras.models import Sequential\n",
    "from keras.layers import Dense"
   ]
  },
  {
   "cell_type": "code",
   "execution_count": 15,
   "metadata": {},
   "outputs": [],
   "source": [
    "traindat = pd.read_csv(\"D:\\ML_Exoplanet\\Data\\exotrain.csv\")\n",
    "train = traindat.to_numpy()\n",
    "testdat = pd.read_csv(\"D:\\ML_Exoplanet\\Data\\exotest.csv\")\n",
    "test = testdat.to_numpy()"
   ]
  },
  {
   "cell_type": "code",
   "execution_count": 16,
   "metadata": {},
   "outputs": [
    {
     "data": {
      "text/plain": [
       "(570, 3198)"
      ]
     },
     "execution_count": 16,
     "metadata": {},
     "output_type": "execute_result"
    }
   ],
   "source": [
    "train.shape\n",
    "test.shape"
   ]
  },
  {
   "cell_type": "code",
   "execution_count": 17,
   "metadata": {},
   "outputs": [],
   "source": [
    "x = train[:,2:]\n",
    "y = train[:,1]\n",
    "test_x = test[:,1:]\n",
    "test_y = test[:,0]"
   ]
  },
  {
   "cell_type": "code",
   "execution_count": 13,
   "metadata": {},
   "outputs": [
    {
     "name": "stdout",
     "output_type": "stream",
     "text": [
      "Epoch 1/20\n",
      "159/159 [==============================] - 1s 1ms/step - loss: 0.4637 - accuracy: 0.8213\n",
      "Epoch 2/20\n",
      "159/159 [==============================] - 0s 1ms/step - loss: 0.0474 - accuracy: 0.9938\n",
      "Epoch 3/20\n",
      "159/159 [==============================] - 0s 1ms/step - loss: 0.0417 - accuracy: 0.9927\n",
      "Epoch 4/20\n",
      "159/159 [==============================] - 0s 1ms/step - loss: 0.0414 - accuracy: 0.9922\n",
      "Epoch 5/20\n",
      "159/159 [==============================] - 0s 1ms/step - loss: 0.0423 - accuracy: 0.9924\n",
      "Epoch 6/20\n",
      "159/159 [==============================] - 0s 1ms/step - loss: 0.0356 - accuracy: 0.9932\n",
      "Epoch 7/20\n",
      "159/159 [==============================] - 0s 1ms/step - loss: 0.0564 - accuracy: 0.9894\n",
      "Epoch 8/20\n",
      "159/159 [==============================] - 0s 1ms/step - loss: 0.0423 - accuracy: 0.9923\n",
      "Epoch 9/20\n",
      "159/159 [==============================] - 0s 1ms/step - loss: 0.0443 - accuracy: 0.9918\n",
      "Epoch 10/20\n",
      "159/159 [==============================] - 0s 1ms/step - loss: 0.0276 - accuracy: 0.9951\n",
      "Epoch 11/20\n",
      "159/159 [==============================] - 0s 1ms/step - loss: 0.0346 - accuracy: 0.9943\n",
      "Epoch 12/20\n",
      "159/159 [==============================] - 0s 1ms/step - loss: 0.0450 - accuracy: 0.9922\n",
      "Epoch 13/20\n",
      "159/159 [==============================] - 0s 1ms/step - loss: 0.0371 - accuracy: 0.9938\n",
      "Epoch 14/20\n",
      "159/159 [==============================] - 0s 1ms/step - loss: 0.0368 - accuracy: 0.9936\n",
      "Epoch 15/20\n",
      "159/159 [==============================] - 0s 1ms/step - loss: 0.0310 - accuracy: 0.9949\n",
      "Epoch 16/20\n",
      "159/159 [==============================] - 0s 1ms/step - loss: 0.0273 - accuracy: 0.9957\n",
      "Epoch 17/20\n",
      "159/159 [==============================] - 0s 1ms/step - loss: 0.0456 - accuracy: 0.9917\n",
      "Epoch 18/20\n",
      "159/159 [==============================] - 0s 1ms/step - loss: 0.0478 - accuracy: 0.9914\n",
      "Epoch 19/20\n",
      "159/159 [==============================] - 0s 1ms/step - loss: 0.0404 - accuracy: 0.9925\n",
      "Epoch 20/20\n",
      "159/159 [==============================] - 0s 1ms/step - loss: 0.0385 - accuracy: 0.9935\n"
     ]
    },
    {
     "data": {
      "text/plain": [
       "<tensorflow.python.keras.callbacks.History at 0x2d104a44b80>"
      ]
     },
     "execution_count": 13,
     "metadata": {},
     "output_type": "execute_result"
    }
   ],
   "source": [
    "model = Sequential()\n",
    "model.add(Dense(64))\n",
    "model.add(Dense(64, activation='softmax'))\n",
    "model.add(Dense(64, activation='relu'))\n",
    "model.add(Dense(2))\n",
    "model.compile(optimizer='adam',\n",
    "              loss=tf.keras.losses.SparseCategoricalCrossentropy(from_logits=True),\n",
    "              metrics=['accuracy'])\n",
    "model.fit(x, y, epochs=20)"
   ]
  },
  {
   "cell_type": "code",
   "execution_count": 18,
   "metadata": {},
   "outputs": [
    {
     "name": "stdout",
     "output_type": "stream",
     "text": [
      "18/18 [==============================] - 0s 1ms/step - loss: 0.0494 - accuracy: 0.9912\n",
      "\n",
      "Test accuracy: 0.9912280440330505\n"
     ]
    }
   ],
   "source": [
    "test_loss, test_acc = model.evaluate(test_x,  test_y, verbose=1)\n",
    "\n",
    "print('\\nTest accuracy:', test_acc)"
   ]
  },
  {
   "cell_type": "code",
   "execution_count": 19,
   "metadata": {},
   "outputs": [
    {
     "data": {
      "text/plain": [
       "array([0.8814375 , 0.11856253], dtype=float32)"
      ]
     },
     "execution_count": 19,
     "metadata": {},
     "output_type": "execute_result"
    }
   ],
   "source": [
    "probability_model = tf.keras.Sequential([model, \n",
    "                                         tf.keras.layers.Softmax()])\n",
    "predictions = probability_model.predict(test_x)\n",
    "predictions[0]"
   ]
  },
  {
   "cell_type": "code",
   "execution_count": null,
   "metadata": {},
   "outputs": [],
   "source": []
  }
 ],
 "metadata": {
  "kernelspec": {
   "display_name": "Python 3",
   "language": "python",
   "name": "python3"
  },
  "language_info": {
   "codemirror_mode": {
    "name": "ipython",
    "version": 3
   },
   "file_extension": ".py",
   "mimetype": "text/x-python",
   "name": "python",
   "nbconvert_exporter": "python",
   "pygments_lexer": "ipython3",
   "version": "3.8.8"
  }
 },
 "nbformat": 4,
 "nbformat_minor": 4
}
